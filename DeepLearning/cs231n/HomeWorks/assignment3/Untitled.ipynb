{
 "cells": [
  {
   "cell_type": "code",
   "execution_count": 1,
   "metadata": {
    "collapsed": false
   },
   "outputs": [
    {
     "name": "stdout",
     "output_type": "stream",
     "text": [
      "['', '/Users/liuweijie/WorkSpace/DeepLearning/cs231n/HomeWorks/assignment3/.env/lib/python27.zip', '/Users/liuweijie/WorkSpace/DeepLearning/cs231n/HomeWorks/assignment3/.env/lib/python2.7', '/Users/liuweijie/WorkSpace/DeepLearning/cs231n/HomeWorks/assignment3/.env/lib/python2.7/plat-darwin', '/Users/liuweijie/WorkSpace/DeepLearning/cs231n/HomeWorks/assignment3/.env/lib/python2.7/plat-mac', '/Users/liuweijie/WorkSpace/DeepLearning/cs231n/HomeWorks/assignment3/.env/lib/python2.7/plat-mac/lib-scriptpackages', '/Users/liuweijie/WorkSpace/DeepLearning/cs231n/HomeWorks/assignment3/.env/lib/python2.7/lib-tk', '/Users/liuweijie/WorkSpace/DeepLearning/cs231n/HomeWorks/assignment3/.env/lib/python2.7/lib-old', '/Users/liuweijie/WorkSpace/DeepLearning/cs231n/HomeWorks/assignment3/.env/lib/python2.7/lib-dynload', '/usr/local/Cellar/python/2.7.12/Frameworks/Python.framework/Versions/2.7/lib/python2.7', '/usr/local/Cellar/python/2.7.12/Frameworks/Python.framework/Versions/2.7/lib/python2.7/plat-darwin', '/usr/local/Cellar/python/2.7.12/Frameworks/Python.framework/Versions/2.7/lib/python2.7/lib-tk', '/usr/local/Cellar/python/2.7.12/Frameworks/Python.framework/Versions/2.7/lib/python2.7/plat-mac', '/usr/local/Cellar/python/2.7.12/Frameworks/Python.framework/Versions/2.7/lib/python2.7/plat-mac/lib-scriptpackages', '/Users/liuweijie/WorkSpace/DeepLearning/cs231n/HomeWorks/assignment3/.env/lib/python2.7/site-packages', '/Users/liuweijie/WorkSpace/DeepLearning/cs231n/HomeWorks/assignment3/.env/lib/python2.7/site-packages/IPython/extensions', '/Users/liuweijie/.ipython']\n"
     ]
    }
   ],
   "source": [
    "import sys\n",
    "print sys.path"
   ]
  },
  {
   "cell_type": "code",
   "execution_count": null,
   "metadata": {
    "collapsed": true
   },
   "outputs": [],
   "source": []
  }
 ],
 "metadata": {
  "kernelspec": {
   "display_name": "Python 2",
   "language": "python",
   "name": "python2"
  },
  "language_info": {
   "codemirror_mode": {
    "name": "ipython",
    "version": 2
   },
   "file_extension": ".py",
   "mimetype": "text/x-python",
   "name": "python",
   "nbconvert_exporter": "python",
   "pygments_lexer": "ipython2",
   "version": "2.7.12"
  }
 },
 "nbformat": 4,
 "nbformat_minor": 0
}
