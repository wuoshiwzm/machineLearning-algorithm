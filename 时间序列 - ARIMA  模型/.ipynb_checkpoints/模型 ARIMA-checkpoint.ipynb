{
 "cells": [
  {
   "cell_type": "markdown",
   "metadata": {},
   "source": [
    "## 自回归模型 AR\n",
    "\n",
    "当前值与历史值之间的关系\n",
    "\n",
    "\n",
    "p阶自回归过程方向，当前状态与前p个单位时间（天）的状态有关\n",
    "$${{\\text{y}}_{t}}=\\mu +\\sum\\limits_{i=1}^{p}{{{\\gamma }_{i}}{{y}_{t-i}}}+{{\\varepsilon }_{t}}$$\n",
    "\n",
    "${{\\text{y}}_{t}}$当前值\n",
    "$\\mu$常数项\n",
    "p是阶数\n",
    "${{\\gamma }_{i}}$自相关系数\n",
    "${{\\varepsilon }_{t}}$误差\n",
    "\n",
    "如果自相关系数${{\\varphi }_{i}} ({{\\gamma }_{i}})$<=0.5 ，就不适合自回归模型"
   ]
  },
  {
   "cell_type": "markdown",
   "metadata": {},
   "source": [
    "## 移动平均模型 MA\n",
    "q阶自回归过程的公式定义\n",
    "$${{\\text{y}}_{t}}=\\mu+{{\\varepsilon }_{t}} +\\sum\\limits_{i=1}^{q}{{{\\theta }_{i}}{{\\varepsilon}_{t-i}}}$$\n",
    "移动平均法能有效地$[消除预测中的随机波动]$"
   ]
  },
  {
   "cell_type": "markdown",
   "metadata": {},
   "source": [
    "## 自回归移动平均模型(ARMA)\n",
    "\n",
    "$${{\\text{y}}_{t}}=\\mu+\\sum\\limits_{i=1}^{p}{{{\\gamma }_{i}}{{y}_{t-i}}}+{{\\varepsilon }_{t}} +\\sum\\limits_{i=1}^{q}{{{\\theta }_{i}}{{\\varepsilon}_{t-i}}}$$\n",
    "\n",
    "$$\\sum\\limits_{i=1}^{q}{{{\\theta }_{i}}{{\\varepsilon}_{t-i}}} : 误差项的累加和$$"
   ]
  },
  {
   "cell_type": "markdown",
   "metadata": {},
   "source": [
    "\n",
    "\n",
    "## 差分自回归移动平均模型(ARIMA)  代上差分就是ARIMA...\n",
    "\n",
    "$$AR是自回归，p为自回归项$$\n",
    "$$MA为移动平均,q为移动平均项数$$\n",
    "$$d为时间序列平衡化时做的差分次数，0为不作差分，1为1阶差分，2为2阶差分$$\n",
    "\n",
    "一般做一阶差分就够了"
   ]
  },
  {
   "cell_type": "markdown",
   "metadata": {},
   "source": [
    "## 自相关函数ACF(autocorrelation function)\n",
    "\n",
    "$$ACF(k)={{\\rho }_{k}}=\\frac{Cov({{y}_{t}},{{y}_{t-k}})}{Var({{y}_{t}})}$$\n",
    "$${{\\rho }_{k}}\\in [-1,1]$$\n",
    "\n",
    "置信区间默认 95%\n",
    "\n",
    "描述不同时间序列上和当前值的相关性\n"
   ]
  },
  {
   "cell_type": "markdown",
   "metadata": {},
   "source": [
    "## 偏自相关函数ACF(partial autocorrelation function)"
   ]
  },
  {
   "cell_type": "code",
   "execution_count": 2,
   "metadata": {},
   "outputs": [
    {
     "name": "stdout",
     "output_type": "stream",
     "text": [
      "The autoreload extension is already loaded. To reload it, use:\n",
      "  %reload_ext autoreload\n"
     ]
    }
   ],
   "source": [
    "%load_ext autoreload\n",
    "%autoreload 2\n",
    "%matplotlib inline\n",
    "%config InlineBackend.figure_format='retina'\n",
    "\n",
    "from __future__ import absolute_import, division, print_function\n",
    "\n",
    "import sys\n",
    "import os\n",
    "\n",
    "import pandas as pd\n",
    "import numpy as np\n",
    "\n",
    "import statsmodels.api as sm\n",
    "import statsmodels.formula.api as smf\n",
    "import statsmodels.tsa.api as smt\n",
    "import matplotlib.pylab as plt\n",
    "import seaborn as sns\n",
    "\n",
    "# 相关设置\n",
    "pd.set_option('display.float_format',lambda x:'%5f'%x)\n",
    "np.set_printoptions(precision=5,suppress=True)\n",
    "\n",
    "pd.set_option('display.max_column',100)\n",
    "pd.set_option('display.max_rows',100)\n",
    "\n",
    "sns.set(style='ticks',context='poster')"
   ]
  },
  {
   "cell_type": "code",
   "execution_count": null,
   "metadata": {},
   "outputs": [],
   "source": [
    "# 画ACF 和 PACF 图"
   ]
  }
 ],
 "metadata": {
  "kernelspec": {
   "display_name": "Python 2",
   "language": "python",
   "name": "python2"
  },
  "language_info": {
   "codemirror_mode": {
    "name": "ipython",
    "version": 2
   },
   "file_extension": ".py",
   "mimetype": "text/x-python",
   "name": "python",
   "nbconvert_exporter": "python",
   "pygments_lexer": "ipython2",
   "version": "2.7.15"
  }
 },
 "nbformat": 4,
 "nbformat_minor": 2
}
