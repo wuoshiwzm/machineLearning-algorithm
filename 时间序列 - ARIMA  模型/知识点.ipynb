{
 "cells": [
  {
   "cell_type": "markdown",
   "metadata": {},
   "source": [
    "### 时间序列\n",
    "时间戳 timestamp\n",
    "固定周期 period\n",
    "时间间隔 interval"
   ]
  },
  {
   "cell_type": "markdown",
   "metadata": {},
   "source": [
    "### pandas.date_range('2018/10/01',periods = 10,freq='D')\n",
    "\n",
    "'2018/10/01':起始时间\n",
    "\n",
    "periods:时间区间的长度（以指定的单位）\n",
    "\n",
    "freq='2D':以2天为单位"
   ]
  },
  {
   "cell_type": "markdown",
   "metadata": {},
   "source": [
    "## 自回归模型 AR\n",
    "\n",
    "当前值与历史值之间的关系\n",
    "\n",
    "\n",
    "p阶自回归过程方向，当前状态与前p个单位时间（天）的状态有关\n",
    "$${{\\text{y}}_{t}}=\\mu +\\sum\\limits_{i=1}^{p}{{{\\gamma }_{i}}{{y}_{t-i}}}+{{\\varepsilon }_{t}}$$\n",
    "\n",
    "${{\\text{y}}_{t}}$当前值\n",
    "$\\mu$常数项\n",
    "p是阶数\n",
    "${{\\gamma }_{i}}$自相关系数\n",
    "${{\\varepsilon }_{t}}$误差\n",
    "\n",
    "如果自相关系数${{\\varphi }_{i}} ({{\\gamma }_{i}})$<=0.5 ，就不适合自回归模型"
   ]
  },
  {
   "cell_type": "markdown",
   "metadata": {},
   "source": [
    "## 移动平均模型 MA\n",
    "q阶自回归过程的公式定义\n",
    "$${{\\text{y}}_{t}}=\\mu+{{\\varepsilon }_{t}} +\\sum\\limits_{i=1}^{q}{{{\\theta }_{i}}{{\\varepsilon}_{t-i}}}$$\n",
    "移动平均法能有效地$[消除预测中的随机波动]$"
   ]
  },
  {
   "cell_type": "markdown",
   "metadata": {},
   "source": [
    "## 自回归移动平均模型(ARMA)\n",
    "\n",
    "$${{\\text{y}}_{t}}=\\mu+\\sum\\limits_{i=1}^{p}{{{\\gamma }_{i}}{{y}_{t-i}}}+{{\\varepsilon }_{t}} +\\sum\\limits_{i=1}^{q}{{{\\theta }_{i}}{{\\varepsilon}_{t-i}}}$$\n",
    "\n",
    "$$\\sum\\limits_{i=1}^{q}{{{\\theta }_{i}}{{\\varepsilon}_{t-i}}} : 误差项的累加和$$"
   ]
  },
  {
   "cell_type": "markdown",
   "metadata": {},
   "source": [
    "\n",
    "\n",
    "## 差分自回归移动平均模型(ARIMA)  代上差分就是ARIMA...\n",
    "\n",
    "$$AR是自回归，p为自回归项，要对应滞后的数量$$\n",
    "$$MA为移动平均,q为移动平均项数，移动窗口的大小$$\n",
    "$$d为差分阶数，0为不作差分，1为1阶差分，2为2阶差分$$\n",
    "\n",
    "一般做一阶差分就够了"
   ]
  },
  {
   "cell_type": "markdown",
   "metadata": {},
   "source": [
    "## 自相关函数ACF(autocorrelation function)\n",
    "\n",
    "$$ACF(k)={{\\rho }_{k}}=\\frac{Cov({{y}_{t}},{{y}_{t-k}})}{Var({{y}_{t}})}$$\n",
    "$${{\\rho }_{k}}\\in [-1,1]$$\n",
    "\n",
    "置信区间默认 95%\n",
    "\n",
    "描述不同时间序列上和当前值的相关性\n",
    "## 偏自相关函数ACF(partial autocorrelation function)"
   ]
  },
  {
   "cell_type": "markdown",
   "metadata": {},
   "source": []
  },
  {
   "cell_type": "markdown",
   "metadata": {},
   "source": []
  }
 ],
 "metadata": {
  "kernelspec": {
   "display_name": "Python 2",
   "language": "python",
   "name": "python2"
  },
  "language_info": {
   "codemirror_mode": {
    "name": "ipython",
    "version": 2
   },
   "file_extension": ".py",
   "mimetype": "text/x-python",
   "name": "python",
   "nbconvert_exporter": "python",
   "pygments_lexer": "ipython2",
   "version": "2.7.15"
  }
 },
 "nbformat": 4,
 "nbformat_minor": 2
}
