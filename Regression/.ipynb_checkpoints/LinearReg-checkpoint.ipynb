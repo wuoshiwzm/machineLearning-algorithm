{
 "cells": [
  {
   "cell_type": "raw",
   "metadata": {},
   "source": [
    "线性回归\n",
    "0.数据预处理\n",
    "1.model\n",
    "2.cost 目标函数\n",
    "3.gradient: 计算每个参数的梯度方向\n",
    "4.descent:进行参数的更新\n",
    "5.验证"
   ]
  },
  {
   "cell_type": "code",
   "execution_count": 1,
   "metadata": {},
   "outputs": [],
   "source": [
    "#三大件\n",
    "import numpy as np\n",
    "import pandas as pd\n",
    "import matplotlib.pyplot as plt\n",
    "%matplotlib inline\n",
    "import os\n",
    "path = 'data' + os.sep + 'LogiReg_data.txt'\n",
    "pdData = pd.read_csv(path, header=None, names=['Exam 1', 'Exam 2', 'Admitted'])\n"
   ]
  },
  {
   "cell_type": "code",
   "execution_count": 2,
   "metadata": {
    "scrolled": true
   },
   "outputs": [],
   "source": [
    "pdData.insert(0,'ones',1)#增加全为1的x0列"
   ]
  },
  {
   "cell_type": "markdown",
   "metadata": {},
   "source": [
    "数据预处理"
   ]
  },
  {
   "cell_type": "code",
   "execution_count": 3,
   "metadata": {},
   "outputs": [
    {
     "data": {
      "text/plain": [
       "Text(0,0.5,'exam2')"
      ]
     },
     "execution_count": 3,
     "metadata": {},
     "output_type": "execute_result"
    },
    {
     "data": {
      "image/png": "[encoded data removed]",
      "text/plain": [
       "<Figure size 864x432 with 1 Axes>"
      ]
     },
     "metadata": {
      "needs_background": "light"
     },
     "output_type": "display_data"
    }
   ],
   "source": [
    "positive = pdData[pdData['Admitted'] == 1]\n",
    "negative = pdData[pdData['Admitted'] == 0]\n",
    "\n",
    "fig,ax = plt.subplots(figsize=(12,6))\n",
    "ax.scatter(positive['Exam 1'],positive['Exam 2'],s=30,c='b',marker='o',label='passed')\n",
    "ax.scatter(negative['Exam 1'],negative['Exam 2'],s=30,c='r',marker='x',label='NOT passed')\n",
    "ax.legend()\n",
    "ax.set_xlabel('exam1')\n",
    "ax.set_ylabel('exam2')"
   ]
  },
  {
   "cell_type": "code",
   "execution_count": 4,
   "metadata": {},
   "outputs": [],
   "source": [
    "orig_data = pdData.values\n",
    "cols = orig_data.shape[1]\n",
    "X=orig_data[:,:cols-1]\n",
    "y =orig_data[:,cols-1:cols]\n",
    "theta = np.zeros([1,cols-1])"
   ]
  },
  {
   "cell_type": "markdown",
   "metadata": {},
   "source": [
    "定义model\n",
    "$$  y={{\\theta }^{T}}X\\  $$ "
   ]
  },
  {
   "cell_type": "code",
   "execution_count": 218,
   "metadata": {},
   "outputs": [],
   "source": [
    "def model(X,theta):\n",
    "    return np.dot(X,theta.T)"
   ]
  },
  {
   "cell_type": "markdown",
   "metadata": {},
   "source": [
    "损失函数， 求她的极值（最小二乘）\n",
    "$$  J(\\theta )=\\frac{1}{2}\\sum\\limits_{i=1}^{m}{{{({{y}^{(i)}}-{{\\theta }^{T}}{{x}^{(i)}})}^{2}}} $$"
   ]
  },
  {
   "cell_type": "code",
   "execution_count": 219,
   "metadata": {},
   "outputs": [
    {
     "data": {
      "text/plain": [
       "3000.0"
      ]
     },
     "execution_count": 219,
     "metadata": {},
     "output_type": "execute_result"
    }
   ],
   "source": [
    "cost(X,y,theta)"
   ]
  },
  {
   "cell_type": "markdown",
   "metadata": {},
   "source": [
    "求导(计算梯度) 矩阵求导得\n",
    "$${{\\nabla }_{\\theta }}(J(\\theta ))={{X}^{T}}X\\theta -{{X}^{T}}y$$\n"
   ]
  },
  {
   "cell_type": "code",
   "execution_count": 222,
   "metadata": {},
   "outputs": [],
   "source": [
    "def gradient(X,y,theta):\n",
    "    grad = np.zeros(theta.shape)\n",
    "    left = np.dot(np.dot(np.transpose(X),X),theta.T)\n",
    "    right = np.dot(np.transpose(X),y)\n",
    "    res = left-right\n",
    "    grad = res.ravel()\n",
    "    return grad"
   ]
  },
  {
   "cell_type": "code",
   "execution_count": 223,
   "metadata": {},
   "outputs": [
    {
     "data": {
      "text/plain": [
       "array([  -60.        , -4483.1353618 , -4437.38412496])"
      ]
     },
     "execution_count": 223,
     "metadata": {},
     "output_type": "execute_result"
    }
   ],
   "source": [
    "gradient(X,y,theta)"
   ]
  },
  {
   "cell_type": "markdown",
   "metadata": {},
   "source": [
    "Gradient descent 梯度下降 的实现，先是无脑版,计算所有数据"
   ]
  },
  {
   "cell_type": "code",
   "execution_count": 237,
   "metadata": {},
   "outputs": [],
   "source": [
    "import time\n",
    "\n",
    "def descent(X,y,theta,alpha,n):\n",
    "    init_time = time.time()\n",
    "    grad = np.zeros(theta.shape)\n",
    "\n",
    "    costs = [cost(X,y,theta)] # 损失值\n",
    "    i=0\n",
    "    while True:\n",
    "        grad= gradient(X,y,theta)\n",
    "        theta = theta - alpha*grad\n",
    "        i += 1\n",
    "        costs.append(cost(X,y,theta))\n",
    "        if i>n: break\n",
    "    return theta,i-1,costs,grad,time.time()-init_time"
   ]
  },
  {
   "cell_type": "markdown",
   "metadata": {},
   "source": [
    "执行函数"
   ]
  },
  {
   "cell_type": "code",
   "execution_count": 238,
   "metadata": {},
   "outputs": [],
   "source": [
    "def runExpe(X,y, theta, alpha,n):\n",
    "    theta, iter, costs, grad, dur = descent(X,y, theta, alpha,n)\n",
    "    fig, ax = plt.subplots(figsize=(12,4))\n",
    "    ax.plot(np.arange(len(costs)), costs, 'r')\n",
    "    return theta"
   ]
  },
  {
   "cell_type": "code",
   "execution_count": 324,
   "metadata": {},
   "outputs": [
    {
     "name": "stdout",
     "output_type": "stream",
     "text": [
      "[[-0.04904955  0.00618757  0.00439499]]\n"
     ]
    },
    {
     "data": {
      "text/plain": [
       "array([1, 0, 0, 0, 0, 0, 0, 0, 0, 0, 1, 1, 0, 0, 1, 0, 0, 1, 0, 0, 1, 0,\n",
       "       0, 0, 0, 0, 0, 1, 1, 0, 0, 0, 1, 0, 1, 1, 1, 0, 1, 0, 0, 0, 0, 1,\n",
       "       0, 1, 0, 0, 0, 0, 0, 0, 0, 0, 0, 1, 0, 1, 0, 0, 0, 0, 0, 0, 1, 1,\n",
       "       0, 0, 0, 0, 0, 0, 0, 0, 0, 0, 0, 0, 1, 1, 0, 0, 0, 0, 0, 0, 1, 0,\n",
       "       0, 1, 0, 0, 0, 0, 0, 0, 0, 0, 0, 0], dtype=int64)"
      ]
     },
     "execution_count": 324,
     "metadata": {},
     "output_type": "execute_result"
    },
    {
     "data": {
      "image/png": "[encoded data removed]",
      "text/plain": [
       "<Figure size 864x288 with 1 Axes>"
      ]
     },
     "metadata": {
      "needs_background": "light"
     },
     "output_type": "display_data"
    }
   ],
   "source": [
    "alpha = 0.000001\n",
    "n=10000\n",
    "\n",
    "theta1 = runExpe(X,y, theta, alpha,n)\n",
    "print theta1\n",
    "\n",
    "\n",
    "res =  np.dot(X,np.transpose(theta1))\n",
    "passd = np.int64(res > 0.5)\n",
    "\n",
    "res =  passd.ravel() - pdData['Admitted']\n",
    "res.ravel()\n",
    "\n",
    "\n"
   ]
  },
  {
   "cell_type": "code",
   "execution_count": null,
   "metadata": {},
   "outputs": [],
   "source": []
  },
  {
   "cell_type": "code",
   "execution_count": null,
   "metadata": {},
   "outputs": [],
   "source": []
  }
 ],
 "metadata": {
  "kernelspec": {
   "display_name": "Python 2",
   "language": "python",
   "name": "python2"
  },
  "language_info": {
   "codemirror_mode": {
    "name": "ipython",
    "version": 2
   },
   "file_extension": ".py",
   "mimetype": "text/x-python",
   "name": "python",
   "nbconvert_exporter": "python",
   "pygments_lexer": "ipython2",
   "version": "2.7.15"
  }
 },
 "nbformat": 4,
 "nbformat_minor": 2
}
