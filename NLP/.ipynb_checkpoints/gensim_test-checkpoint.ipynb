{
 "cells": [
  {
   "cell_type": "code",
   "execution_count": 1,
   "metadata": {},
   "outputs": [],
   "source": [
    "from gensim.models import word2vec\n",
    "import logging\n",
    "\n",
    "logging.basicConfig(format='%(asctime)s:%(levelname)s:%(message)s',level=logging.INFO)"
   ]
  },
  {
   "cell_type": "code",
   "execution_count": 2,
   "metadata": {},
   "outputs": [
    {
     "name": "stdout",
     "output_type": "stream",
     "text": [
      "[['the', 'quick', 'brown', 'fox', 'jumps', 'over', 'the', 'lazy', 'dogs'], ['you', 'you', 'go', 'home', 'now', 'to', 'haha']]\n"
     ]
    }
   ],
   "source": [
    "raw_sentences = [\"the quick brown fox jumps over the lazy dogs\",\"you you go home now to haha\"]\n",
    "\n",
    "sentences = [s.split() for s in raw_sentences]\n",
    "print sentences"
   ]
  },
  {
   "cell_type": "markdown",
   "metadata": {},
   "source": [
    "word2vector 模型建立"
   ]
  },
  {
   "cell_type": "code",
   "execution_count": 12,
   "metadata": {},
   "outputs": [
    {
     "name": "stderr",
     "output_type": "stream",
     "text": [
      "2018-11-09 14:31:57,272:WARNING:consider setting layer size to a multiple of 4 for greater performance\n",
      "2018-11-09 14:31:57,273:INFO:collecting all words and their counts\n",
      "2018-11-09 14:31:57,276:INFO:PROGRESS: at sentence #0, processed 0 words, keeping 0 word types\n",
      "2018-11-09 14:31:57,279:INFO:collected 14 word types from a corpus of 16 raw words and 2 sentences\n",
      "2018-11-09 14:31:57,280:INFO:Loading a fresh vocabulary\n",
      "2018-11-09 14:31:57,283:INFO:effective_min_count=1 retains 14 unique words (100% of original 14, drops 0)\n",
      "2018-11-09 14:31:57,286:INFO:effective_min_count=1 leaves 16 word corpus (100% of original 16, drops 0)\n",
      "2018-11-09 14:31:57,289:INFO:deleting the raw counts dictionary of 14 items\n",
      "2018-11-09 14:31:57,290:INFO:sample=0.001 downsamples 14 most-common words\n",
      "2018-11-09 14:31:57,292:INFO:downsampling leaves estimated 2 word corpus (13.1% of prior 16)\n",
      "2018-11-09 14:31:57,296:INFO:estimated required memory for 14 words and 10 dimensions: 8120 bytes\n",
      "2018-11-09 14:31:57,298:INFO:resetting layer weights\n",
      "2018-11-09 14:31:57,299:INFO:training model with 3 workers on 14 vocabulary and 10 features, using sg=0 hs=0 sample=0.001 negative=5 window=5\n",
      "2018-11-09 14:31:57,305:INFO:worker thread finished; awaiting finish of 2 more threads\n",
      "2018-11-09 14:31:57,309:INFO:worker thread finished; awaiting finish of 1 more threads\n",
      "2018-11-09 14:31:57,311:INFO:worker thread finished; awaiting finish of 0 more threads\n",
      "2018-11-09 14:31:57,312:INFO:EPOCH - 1 : training on 16 raw words (2 effective words) took 0.0s, 261 effective words/s\n",
      "2018-11-09 14:31:57,318:INFO:worker thread finished; awaiting finish of 2 more threads\n",
      "2018-11-09 14:31:57,321:INFO:worker thread finished; awaiting finish of 1 more threads\n",
      "2018-11-09 14:31:57,325:INFO:worker thread finished; awaiting finish of 0 more threads\n",
      "2018-11-09 14:31:57,326:INFO:EPOCH - 2 : training on 16 raw words (3 effective words) took 0.0s, 299 effective words/s\n",
      "2018-11-09 14:31:57,329:INFO:worker thread finished; awaiting finish of 2 more threads\n",
      "2018-11-09 14:31:57,332:INFO:worker thread finished; awaiting finish of 1 more threads\n",
      "2018-11-09 14:31:57,335:INFO:worker thread finished; awaiting finish of 0 more threads\n",
      "2018-11-09 14:31:57,339:INFO:EPOCH - 3 : training on 16 raw words (1 effective words) took 0.0s, 101 effective words/s\n",
      "2018-11-09 14:31:57,345:INFO:worker thread finished; awaiting finish of 2 more threads\n",
      "2018-11-09 14:31:57,348:INFO:worker thread finished; awaiting finish of 1 more threads\n",
      "2018-11-09 14:31:57,351:INFO:worker thread finished; awaiting finish of 0 more threads\n",
      "2018-11-09 14:31:57,355:INFO:EPOCH - 4 : training on 16 raw words (1 effective words) took 0.0s, 101 effective words/s\n",
      "2018-11-09 14:31:57,361:INFO:worker thread finished; awaiting finish of 2 more threads\n",
      "2018-11-09 14:31:57,364:INFO:worker thread finished; awaiting finish of 1 more threads\n",
      "2018-11-09 14:31:57,365:INFO:worker thread finished; awaiting finish of 0 more threads\n",
      "2018-11-09 14:31:57,368:INFO:EPOCH - 5 : training on 16 raw words (2 effective words) took 0.0s, 276 effective words/s\n",
      "2018-11-09 14:31:57,371:INFO:training on a 80 raw words (9 effective words) took 0.1s, 131 effective words/s\n",
      "2018-11-09 14:31:57,375:WARNING:under 10 jobs per worker: consider setting a smaller `batch_words' for smoother alpha decay\n"
     ]
    }
   ],
   "source": [
    "# size:默认神经网络的层数为100\n",
    "# min_count:词频，过滤出现次数过小的词\n",
    "model = word2vec.Word2Vec(sentences,min_count=1,size=10)\n"
   ]
  },
  {
   "cell_type": "code",
   "execution_count": 21,
   "metadata": {},
   "outputs": [
    {
     "name": "stderr",
     "output_type": "stream",
     "text": [
      "C:\\Software\\Anaconda2\\lib\\site-packages\\ipykernel_launcher.py:2: DeprecationWarning: Call to deprecated `similarity` (Method will be removed in 4.0.0, use self.wv.similarity() instead).\n",
      "  \n"
     ]
    },
    {
     "data": {
      "text/plain": [
       "-0.2161118"
      ]
     },
     "execution_count": 21,
     "metadata": {},
     "output_type": "execute_result"
    }
   ],
   "source": [
    "\n",
    "model.similarity('go','home')"
   ]
  },
  {
   "cell_type": "code",
   "execution_count": null,
   "metadata": {},
   "outputs": [],
   "source": []
  }
 ],
 "metadata": {
  "kernelspec": {
   "display_name": "Python 2",
   "language": "python",
   "name": "python2"
  },
  "language_info": {
   "codemirror_mode": {
    "name": "ipython",
    "version": 2
   },
   "file_extension": ".py",
   "mimetype": "text/x-python",
   "name": "python",
   "nbconvert_exporter": "python",
   "pygments_lexer": "ipython2",
   "version": "2.7.15"
  }
 },
 "nbformat": 4,
 "nbformat_minor": 2
}
