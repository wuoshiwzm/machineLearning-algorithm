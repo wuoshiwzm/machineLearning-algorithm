{
 "cells": [
  {
   "cell_type": "markdown",
   "metadata": {},
   "source": [
    "ngram"
   ]
  },
  {
   "cell_type": "markdown",
   "metadata": {},
   "source": [
    "词向量"
   ]
  },
  {
   "cell_type": "markdown",
   "metadata": {},
   "source": [
    "神经网络：\n",
    "输入（word->vector）-> projection layer -> hidden layer ->output\n",
    "输入对应词后面出现的各个词的概率"
   ]
  },
  {
   "cell_type": "markdown",
   "metadata": {},
   "source": [
    "## Hieraichical Softmax(分层Softmax)\n",
    "\n",
    "Continuous Bag-of-Words Model\n",
    "\n",
    "CBOW:根据一个词的上下文(...w(t-2),w(t-1),w(t+1),w(t+2)...)预测这个词是什么(w(t))\n",
    "\n",
    "哈夫曼树\n",
    "\n",
    "\n",
    "\n",
    "\n",
    "Skip-gram:根据一个词(w(t))预测他的上下文(...w(t-2),w(t-1),w(t+1),w(t+2)...)"
   ]
  },
  {
   "cell_type": "code",
   "execution_count": null,
   "metadata": {},
   "outputs": [],
   "source": []
  }
 ],
 "metadata": {
  "kernelspec": {
   "display_name": "Python 2",
   "language": "python",
   "name": "python2"
  },
  "language_info": {
   "codemirror_mode": {
    "name": "ipython",
    "version": 2
   },
   "file_extension": ".py",
   "mimetype": "text/x-python",
   "name": "python",
   "nbconvert_exporter": "python",
   "pygments_lexer": "ipython2",
   "version": "2.7.15"
  }
 },
 "nbformat": 4,
 "nbformat_minor": 2
}
