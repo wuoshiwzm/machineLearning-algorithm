{
 "cells": [
  {
   "cell_type": "code",
   "execution_count": 26,
   "metadata": {},
   "outputs": [],
   "source": [
    "import pandas as pd\n",
    "import numpy as np\n",
    "import matplotlib.pyplot as plt"
   ]
  },
  {
   "cell_type": "code",
   "execution_count": 27,
   "metadata": {},
   "outputs": [],
   "source": [
    "# 预处理，生成loans_2007.csv\n",
    "# 去掉第一行表头\n",
    "loans_2007 = pd.read_csv('LoanStats3a.csv',skiprows=1)\n",
    "half_count = len(loans_2007)/2\n",
    "# thresh : int, optional Require that many non-NA values. 超过一半为空则删除\n",
    "# {0 or ‘index’, 1 or ‘columns’}, default 0\n",
    "loans_2007 = loans_2007.dropna(thresh = half_count,axis=1)\n",
    "loans_2007 = loans_2007.drop(['desc'],axis=1)\n",
    "loans_2007.to_csv('loans_2007.csv',index=False)"
   ]
  },
  {
   "cell_type": "code",
   "execution_count": 28,
   "metadata": {},
   "outputs": [
    {
     "name": "stdout",
     "output_type": "stream",
     "text": [
      "loan_amnt                            5000\n",
      "funded_amnt                          5000\n",
      "funded_amnt_inv                      4975\n",
      "term                            36 months\n",
      "int_rate                           10.65%\n",
      "installment                        162.87\n",
      "grade                                   B\n",
      "sub_grade                              B2\n",
      "emp_title                             NaN\n",
      "emp_length                      10+ years\n",
      "home_ownership                       RENT\n",
      "annual_inc                          24000\n",
      "verification_status              Verified\n",
      "issue_d                          Dec-2011\n",
      "loan_status                    Fully Paid\n",
      "pymnt_plan                              n\n",
      "purpose                       credit_card\n",
      "title                            Computer\n",
      "zip_code                            860xx\n",
      "addr_state                             AZ\n",
      "dti                                 27.65\n",
      "delinq_2yrs                             0\n",
      "earliest_cr_line                 Jan-1985\n",
      "inq_last_6mths                          1\n",
      "open_acc                                3\n",
      "pub_rec                                 0\n",
      "revol_bal                           13648\n",
      "revol_util                          83.7%\n",
      "total_acc                               9\n",
      "initial_list_status                     f\n",
      "out_prncp                               0\n",
      "out_prncp_inv                           0\n",
      "total_pymnt                       5863.16\n",
      "total_pymnt_inv                   5833.84\n",
      "total_rec_prncp                      5000\n",
      "total_rec_int                      863.16\n",
      "total_rec_late_fee                      0\n",
      "recoveries                              0\n",
      "collection_recovery_fee                 0\n",
      "last_pymnt_d                     Jan-2015\n",
      "last_pymnt_amnt                    171.62\n",
      "last_credit_pull_d               Oct-2018\n",
      "collections_12_mths_ex_med              0\n",
      "policy_code                             1\n",
      "application_type               Individual\n",
      "acc_now_delinq                          0\n",
      "chargeoff_within_12_mths                0\n",
      "delinq_amnt                             0\n",
      "pub_rec_bankruptcies                    0\n",
      "tax_liens                               0\n",
      "hardship_flag                           N\n",
      "disbursement_method                  Cash\n",
      "debt_settlement_flag                    N\n",
      "Name: 0, dtype: object\n",
      "(42538, 53)\n"
     ]
    }
   ],
   "source": [
    "# \n",
    "loans_2007 = pd.read_csv('loans_2007.csv')\n",
    "# 去重\n",
    "loans_2007.drop_duplicates()\n",
    "\n",
    "print loans_2007.iloc[0]\n",
    "print loans_2007.shape"
   ]
  },
  {
   "cell_type": "code",
   "execution_count": 29,
   "metadata": {},
   "outputs": [
    {
     "name": "stdout",
     "output_type": "stream",
     "text": [
      "Fully Paid                                             34116\n",
      "Charged Off                                             5670\n",
      "Does not meet the credit policy. Status:Fully Paid      1988\n",
      "Does not meet the credit policy. Status:Charged Off      761\n",
      "Name: loan_status, dtype: int64\n"
     ]
    }
   ],
   "source": [
    "print loans_2007['loan_status'].value_counts()"
   ]
  },
  {
   "cell_type": "code",
   "execution_count": 30,
   "metadata": {},
   "outputs": [],
   "source": [
    "# loan_status 列 为Fully Paid的变为1 ， 为Charged Off的变为0\n",
    "loans_2007 = loans_2007[(loans_2007['loan_status'] == 'Fully Paid') | (loans_2007['loan_status']=='Charged Off')]\n",
    "\n",
    "status_replace = {\n",
    "    'loan_status':{\n",
    "        'Fully Paid':1,\n",
    "        'Charged Off':0\n",
    "    }\n",
    "}\n",
    "loans_2007 = loans_2007.replace(status_replace)"
   ]
  },
  {
   "cell_type": "code",
   "execution_count": 31,
   "metadata": {},
   "outputs": [
    {
     "data": {
      "text/plain": [
       "n    39786\n",
       "Name: pymnt_plan, dtype: int64"
      ]
     },
     "execution_count": 31,
     "metadata": {},
     "output_type": "execute_result"
    }
   ],
   "source": [
    "loans_2007['pymnt_plan'].value_counts()"
   ]
  },
  {
   "cell_type": "code",
   "execution_count": 32,
   "metadata": {},
   "outputs": [
    {
     "name": "stdout",
     "output_type": "stream",
     "text": [
      "Index([u'loan_amnt', u'funded_amnt', u'funded_amnt_inv', u'term', u'int_rate',\n",
      "       u'installment', u'grade', u'sub_grade', u'emp_title', u'emp_length',\n",
      "       u'home_ownership', u'annual_inc', u'verification_status', u'issue_d',\n",
      "       u'loan_status', u'pymnt_plan', u'purpose', u'title', u'zip_code',\n",
      "       u'addr_state', u'dti', u'delinq_2yrs', u'earliest_cr_line',\n",
      "       u'inq_last_6mths', u'open_acc', u'pub_rec', u'revol_bal', u'revol_util',\n",
      "       u'total_acc', u'initial_list_status', u'out_prncp', u'out_prncp_inv',\n",
      "       u'total_pymnt', u'total_pymnt_inv', u'total_rec_prncp',\n",
      "       u'total_rec_int', u'total_rec_late_fee', u'recoveries',\n",
      "       u'collection_recovery_fee', u'last_pymnt_d', u'last_pymnt_amnt',\n",
      "       u'last_credit_pull_d', u'collections_12_mths_ex_med', u'policy_code',\n",
      "       u'application_type', u'acc_now_delinq', u'chargeoff_within_12_mths',\n",
      "       u'delinq_amnt', u'pub_rec_bankruptcies', u'tax_liens', u'hardship_flag',\n",
      "       u'disbursement_method', u'debt_settlement_flag'],\n",
      "      dtype='object')\n",
      "['pymnt_plan', 'initial_list_status', 'out_prncp', 'out_prncp_inv', 'collections_12_mths_ex_med', 'policy_code', 'application_type', 'acc_now_delinq', 'chargeoff_within_12_mths', 'delinq_amnt', 'tax_liens', 'hardship_flag', 'disbursement_method']\n"
     ]
    }
   ],
   "source": [
    "# 把缺失值去掉\n",
    "# 获取所有列\n",
    "orig_columns = loans_2007.columns\n",
    "print orig_columns\n",
    "drop_columns = []\n",
    "for col in orig_columns:\n",
    "    col_series = loans_2007[col].dropna().unique()\n",
    "    #如果一列的值除了空(nan)外，只有一个，说明这一列没用，去掉     \n",
    "    if len(col_series) == 1:\n",
    "        drop_columns.append(col)\n",
    "\n",
    "loans_2007 = loans_2007.drop(drop_columns,axis=1)\n",
    "print drop_columns"
   ]
  },
  {
   "cell_type": "code",
   "execution_count": 34,
   "metadata": {},
   "outputs": [
    {
     "name": "stdout",
     "output_type": "stream",
     "text": [
      "(39786, 40)\n"
     ]
    }
   ],
   "source": [
    "print loans_2007.shape\n",
    "loans_2007.to_csv('filtered_loans_2007.csv',index=False)"
   ]
  },
  {
   "cell_type": "code",
   "execution_count": 37,
   "metadata": {},
   "outputs": [
    {
     "name": "stdout",
     "output_type": "stream",
     "text": [
      "loan_amnt                     0\n",
      "funded_amnt                   0\n",
      "funded_amnt_inv               0\n",
      "term                          0\n",
      "int_rate                      0\n",
      "installment                   0\n",
      "grade                         0\n",
      "sub_grade                     0\n",
      "emp_title                  2467\n",
      "emp_length                 1078\n",
      "home_ownership                0\n",
      "annual_inc                    0\n",
      "verification_status           0\n",
      "issue_d                       0\n",
      "loan_status                   0\n",
      "purpose                       0\n",
      "title                        11\n",
      "zip_code                      0\n",
      "addr_state                    0\n",
      "dti                           0\n",
      "delinq_2yrs                   0\n",
      "earliest_cr_line              0\n",
      "inq_last_6mths                0\n",
      "open_acc                      0\n",
      "pub_rec                       0\n",
      "revol_bal                     0\n",
      "revol_util                   50\n",
      "total_acc                     0\n",
      "total_pymnt                   0\n",
      "total_pymnt_inv               0\n",
      "total_rec_prncp               0\n",
      "total_rec_int                 0\n",
      "total_rec_late_fee            0\n",
      "recoveries                    0\n",
      "collection_recovery_fee       0\n",
      "last_pymnt_d                 71\n",
      "last_pymnt_amnt               0\n",
      "last_credit_pull_d            2\n",
      "pub_rec_bankruptcies        697\n",
      "debt_settlement_flag          0\n",
      "dtype: int64\n"
     ]
    }
   ],
   "source": [
    "# 处理字符串值  和  空值\n",
    "loans = pd.read_csv('filtered_loans_2007.csv')\n",
    "# 统计每一列有多少个缺失值\n",
    "# 如果一列缺失值少， 就把对应的数据去掉，如果一列几乎全是缺失，那就把整个列去掉\n",
    "null_counts = loans.isnull().sum()\n",
    "print null_counts"
   ]
  },
  {
   "cell_type": "code",
   "execution_count": 41,
   "metadata": {},
   "outputs": [
    {
     "ename": "KeyError",
     "evalue": "\"['pub_rec_bankruptcies'] not found in axis\"",
     "output_type": "error",
     "traceback": [
      "\u001b[1;31m---------------------------------------------------------------------------\u001b[0m",
      "\u001b[1;31mKeyError\u001b[0m                                  Traceback (most recent call last)",
      "\u001b[1;32m<ipython-input-41-fd620b2185cc>\u001b[0m in \u001b[0;36m<module>\u001b[1;34m()\u001b[0m\n\u001b[0;32m      1\u001b[0m \u001b[1;31m# 把 列 “pub_rec_bankruptcies”去掉， 其他有空值的行去掉，列保留\u001b[0m\u001b[1;33m\u001b[0m\u001b[1;33m\u001b[0m\u001b[0m\n\u001b[1;32m----> 2\u001b[1;33m \u001b[0mloans\u001b[0m \u001b[1;33m=\u001b[0m \u001b[0mloans\u001b[0m\u001b[1;33m.\u001b[0m\u001b[0mdrop\u001b[0m\u001b[1;33m(\u001b[0m\u001b[1;34m\"pub_rec_bankruptcies\"\u001b[0m\u001b[1;33m,\u001b[0m\u001b[0maxis\u001b[0m\u001b[1;33m=\u001b[0m\u001b[1;36m1\u001b[0m\u001b[1;33m)\u001b[0m\u001b[1;33m\u001b[0m\u001b[0m\n\u001b[0m\u001b[0;32m      3\u001b[0m \u001b[0mloans\u001b[0m \u001b[1;33m=\u001b[0m \u001b[0mloans\u001b[0m\u001b[1;33m.\u001b[0m\u001b[0mdropna\u001b[0m\u001b[1;33m(\u001b[0m\u001b[0maxis\u001b[0m\u001b[1;33m=\u001b[0m\u001b[1;36m0\u001b[0m\u001b[1;33m)\u001b[0m\u001b[1;33m\u001b[0m\u001b[0m\n\u001b[0;32m      4\u001b[0m \u001b[0mloans\u001b[0m\u001b[1;33m.\u001b[0m\u001b[0mhead\u001b[0m\u001b[1;33m(\u001b[0m\u001b[1;33m)\u001b[0m\u001b[1;33m\u001b[0m\u001b[0m\n",
      "\u001b[1;32mC:\\Software\\Anaconda2\\lib\\site-packages\\pandas\\core\\frame.pyc\u001b[0m in \u001b[0;36mdrop\u001b[1;34m(self, labels, axis, index, columns, level, inplace, errors)\u001b[0m\n\u001b[0;32m   3695\u001b[0m                                            \u001b[0mindex\u001b[0m\u001b[1;33m=\u001b[0m\u001b[0mindex\u001b[0m\u001b[1;33m,\u001b[0m \u001b[0mcolumns\u001b[0m\u001b[1;33m=\u001b[0m\u001b[0mcolumns\u001b[0m\u001b[1;33m,\u001b[0m\u001b[1;33m\u001b[0m\u001b[0m\n\u001b[0;32m   3696\u001b[0m                                            \u001b[0mlevel\u001b[0m\u001b[1;33m=\u001b[0m\u001b[0mlevel\u001b[0m\u001b[1;33m,\u001b[0m \u001b[0minplace\u001b[0m\u001b[1;33m=\u001b[0m\u001b[0minplace\u001b[0m\u001b[1;33m,\u001b[0m\u001b[1;33m\u001b[0m\u001b[0m\n\u001b[1;32m-> 3697\u001b[1;33m                                            errors=errors)\n\u001b[0m\u001b[0;32m   3698\u001b[0m \u001b[1;33m\u001b[0m\u001b[0m\n\u001b[0;32m   3699\u001b[0m     @rewrite_axis_style_signature('mapper', [('copy', True),\n",
      "\u001b[1;32mC:\\Software\\Anaconda2\\lib\\site-packages\\pandas\\core\\generic.pyc\u001b[0m in \u001b[0;36mdrop\u001b[1;34m(self, labels, axis, index, columns, level, inplace, errors)\u001b[0m\n\u001b[0;32m   3109\u001b[0m         \u001b[1;32mfor\u001b[0m \u001b[0maxis\u001b[0m\u001b[1;33m,\u001b[0m \u001b[0mlabels\u001b[0m \u001b[1;32min\u001b[0m \u001b[0maxes\u001b[0m\u001b[1;33m.\u001b[0m\u001b[0mitems\u001b[0m\u001b[1;33m(\u001b[0m\u001b[1;33m)\u001b[0m\u001b[1;33m:\u001b[0m\u001b[1;33m\u001b[0m\u001b[0m\n\u001b[0;32m   3110\u001b[0m             \u001b[1;32mif\u001b[0m \u001b[0mlabels\u001b[0m \u001b[1;32mis\u001b[0m \u001b[1;32mnot\u001b[0m \u001b[0mNone\u001b[0m\u001b[1;33m:\u001b[0m\u001b[1;33m\u001b[0m\u001b[0m\n\u001b[1;32m-> 3111\u001b[1;33m                 \u001b[0mobj\u001b[0m \u001b[1;33m=\u001b[0m \u001b[0mobj\u001b[0m\u001b[1;33m.\u001b[0m\u001b[0m_drop_axis\u001b[0m\u001b[1;33m(\u001b[0m\u001b[0mlabels\u001b[0m\u001b[1;33m,\u001b[0m \u001b[0maxis\u001b[0m\u001b[1;33m,\u001b[0m \u001b[0mlevel\u001b[0m\u001b[1;33m=\u001b[0m\u001b[0mlevel\u001b[0m\u001b[1;33m,\u001b[0m \u001b[0merrors\u001b[0m\u001b[1;33m=\u001b[0m\u001b[0merrors\u001b[0m\u001b[1;33m)\u001b[0m\u001b[1;33m\u001b[0m\u001b[0m\n\u001b[0m\u001b[0;32m   3112\u001b[0m \u001b[1;33m\u001b[0m\u001b[0m\n\u001b[0;32m   3113\u001b[0m         \u001b[1;32mif\u001b[0m \u001b[0minplace\u001b[0m\u001b[1;33m:\u001b[0m\u001b[1;33m\u001b[0m\u001b[0m\n",
      "\u001b[1;32mC:\\Software\\Anaconda2\\lib\\site-packages\\pandas\\core\\generic.pyc\u001b[0m in \u001b[0;36m_drop_axis\u001b[1;34m(self, labels, axis, level, errors)\u001b[0m\n\u001b[0;32m   3141\u001b[0m                 \u001b[0mnew_axis\u001b[0m \u001b[1;33m=\u001b[0m \u001b[0maxis\u001b[0m\u001b[1;33m.\u001b[0m\u001b[0mdrop\u001b[0m\u001b[1;33m(\u001b[0m\u001b[0mlabels\u001b[0m\u001b[1;33m,\u001b[0m \u001b[0mlevel\u001b[0m\u001b[1;33m=\u001b[0m\u001b[0mlevel\u001b[0m\u001b[1;33m,\u001b[0m \u001b[0merrors\u001b[0m\u001b[1;33m=\u001b[0m\u001b[0merrors\u001b[0m\u001b[1;33m)\u001b[0m\u001b[1;33m\u001b[0m\u001b[0m\n\u001b[0;32m   3142\u001b[0m             \u001b[1;32melse\u001b[0m\u001b[1;33m:\u001b[0m\u001b[1;33m\u001b[0m\u001b[0m\n\u001b[1;32m-> 3143\u001b[1;33m                 \u001b[0mnew_axis\u001b[0m \u001b[1;33m=\u001b[0m \u001b[0maxis\u001b[0m\u001b[1;33m.\u001b[0m\u001b[0mdrop\u001b[0m\u001b[1;33m(\u001b[0m\u001b[0mlabels\u001b[0m\u001b[1;33m,\u001b[0m \u001b[0merrors\u001b[0m\u001b[1;33m=\u001b[0m\u001b[0merrors\u001b[0m\u001b[1;33m)\u001b[0m\u001b[1;33m\u001b[0m\u001b[0m\n\u001b[0m\u001b[0;32m   3144\u001b[0m             \u001b[0mresult\u001b[0m \u001b[1;33m=\u001b[0m \u001b[0mself\u001b[0m\u001b[1;33m.\u001b[0m\u001b[0mreindex\u001b[0m\u001b[1;33m(\u001b[0m\u001b[1;33m**\u001b[0m\u001b[1;33m{\u001b[0m\u001b[0maxis_name\u001b[0m\u001b[1;33m:\u001b[0m \u001b[0mnew_axis\u001b[0m\u001b[1;33m}\u001b[0m\u001b[1;33m)\u001b[0m\u001b[1;33m\u001b[0m\u001b[0m\n\u001b[0;32m   3145\u001b[0m \u001b[1;33m\u001b[0m\u001b[0m\n",
      "\u001b[1;32mC:\\Software\\Anaconda2\\lib\\site-packages\\pandas\\core\\indexes\\base.pyc\u001b[0m in \u001b[0;36mdrop\u001b[1;34m(self, labels, errors)\u001b[0m\n\u001b[0;32m   4402\u001b[0m             \u001b[1;32mif\u001b[0m \u001b[0merrors\u001b[0m \u001b[1;33m!=\u001b[0m \u001b[1;34m'ignore'\u001b[0m\u001b[1;33m:\u001b[0m\u001b[1;33m\u001b[0m\u001b[0m\n\u001b[0;32m   4403\u001b[0m                 raise KeyError(\n\u001b[1;32m-> 4404\u001b[1;33m                     '{} not found in axis'.format(labels[mask]))\n\u001b[0m\u001b[0;32m   4405\u001b[0m             \u001b[0mindexer\u001b[0m \u001b[1;33m=\u001b[0m \u001b[0mindexer\u001b[0m\u001b[1;33m[\u001b[0m\u001b[1;33m~\u001b[0m\u001b[0mmask\u001b[0m\u001b[1;33m]\u001b[0m\u001b[1;33m\u001b[0m\u001b[0m\n\u001b[0;32m   4406\u001b[0m         \u001b[1;32mreturn\u001b[0m \u001b[0mself\u001b[0m\u001b[1;33m.\u001b[0m\u001b[0mdelete\u001b[0m\u001b[1;33m(\u001b[0m\u001b[0mindexer\u001b[0m\u001b[1;33m)\u001b[0m\u001b[1;33m\u001b[0m\u001b[0m\n",
      "\u001b[1;31mKeyError\u001b[0m: \"['pub_rec_bankruptcies'] not found in axis\""
     ]
    }
   ],
   "source": [
    "# 把 列 “pub_rec_bankruptcies”去掉， 其他有空值的行去掉，列保留\n",
    "loans = loans.drop(\"pub_rec_bankruptcies\",axis=1)\n",
    "loans = loans.dropna(axis=0)\n",
    "loans.head()"
   ]
  },
  {
   "cell_type": "code",
   "execution_count": 43,
   "metadata": {},
   "outputs": [
    {
     "data": {
      "text/plain": [
       "(37148, 39)"
      ]
     },
     "execution_count": 43,
     "metadata": {},
     "output_type": "execute_result"
    }
   ],
   "source": [
    "loans.isnull().sum()\n",
    "loans.shape"
   ]
  },
  {
   "cell_type": "code",
   "execution_count": 44,
   "metadata": {},
   "outputs": [
    {
     "data": {
      "text/plain": [
       "float64    20\n",
       "object     18\n",
       "int64       1\n",
       "dtype: int64"
      ]
     },
     "execution_count": 44,
     "metadata": {},
     "output_type": "execute_result"
    }
   ],
   "source": [
    "# 再分析不同数据类型\n",
    "# sklearn 只接受数值型的数据，字符型的数据要转化成数值型的\n",
    "loans.dtypes.value_counts()"
   ]
  },
  {
   "cell_type": "code",
   "execution_count": 45,
   "metadata": {},
   "outputs": [],
   "source": [
    "# 字符型的列\n",
    "object_columns_df = loans.select_dtypes(include=['object'])"
   ]
  },
  {
   "cell_type": "code",
   "execution_count": 51,
   "metadata": {},
   "outputs": [
    {
     "data": {
      "text/plain": [
       "term                          60 months\n",
       "int_rate                         15.27%\n",
       "grade                                 C\n",
       "sub_grade                            C4\n",
       "emp_title                         Ryder\n",
       "emp_length                     < 1 year\n",
       "home_ownership                     RENT\n",
       "verification_status     Source Verified\n",
       "issue_d                        Dec-2011\n",
       "purpose                             car\n",
       "title                              bike\n",
       "zip_code                          309xx\n",
       "addr_state                           GA\n",
       "earliest_cr_line               Apr-1999\n",
       "revol_util                         9.4%\n",
       "last_pymnt_d                   Apr-2013\n",
       "last_credit_pull_d             Oct-2016\n",
       "debt_settlement_flag                  N\n",
       "Name: 1, dtype: object"
      ]
     },
     "execution_count": 51,
     "metadata": {},
     "output_type": "execute_result"
    }
   ],
   "source": [
    "object_columns_df.iloc[0]"
   ]
  },
  {
   "cell_type": "code",
   "execution_count": 55,
   "metadata": {},
   "outputs": [],
   "source": [
    "cols = ['home_ownership','verification_status','emp_length','term','addr_state']\n",
    "# for c in cols:\n",
    "#     print loans[c].value_counts()\n",
    "    "
   ]
  },
  {
   "cell_type": "code",
   "execution_count": 54,
   "metadata": {},
   "outputs": [
    {
     "data": {
      "text/plain": [
       "10+ years    8543\n",
       "2 years      4267\n",
       "< 1 year     4189\n",
       "3 years      3974\n",
       "4 years      3350\n",
       "5 years      3165\n",
       "1 year       3125\n",
       "6 years      2155\n",
       "7 years      1720\n",
       "8 years      1436\n",
       "9 years      1224\n",
       "Name: emp_length, dtype: int64"
      ]
     },
     "execution_count": 54,
     "metadata": {},
     "output_type": "execute_result"
    }
   ],
   "source": [
    "loans['purpose'].value_counts()\n",
    "loans['emp_length'].value_counts()"
   ]
  },
  {
   "cell_type": "code",
   "execution_count": 63,
   "metadata": {},
   "outputs": [],
   "source": [
    "# 字典形式映射\n",
    "dict = {\n",
    "    \"emp_length\":{\n",
    "        \"10+ years\":10,\n",
    "        \"9 years\":9,\n",
    "        \"8 years\":8,\n",
    "        \"7 years\":7,\n",
    "        \"6 years\":6,\n",
    "        \"5 years\":5,\n",
    "        \"3 years\":4,\n",
    "        \"2 years\":2,\n",
    "        \"< 1 year\":1\n",
    "    }\n",
    "}\n",
    "loans = loans.replace(dict)"
   ]
  },
  {
   "cell_type": "code",
   "execution_count": null,
   "metadata": {},
   "outputs": [],
   "source": [
    "# 去除以下的列\n",
    "loans = loans.drop(['last_credit_pull_d','earliest_cr_line','addr_state','title'],axis=1)\n",
    "# 去掉百分号 %\n",
    "loans['int_rate'] = loans['int_rate'].str.rstrip(\"%\").astype(\"float\")\n",
    "loans['revol_util'] = loans['revol_util'].str.rstrip(\"%\").astype(\"float\")"
   ]
  },
  {
   "cell_type": "code",
   "execution_count": 65,
   "metadata": {},
   "outputs": [
    {
     "data": {
      "text/plain": [
       "loan_amnt                             2500\n",
       "funded_amnt                           2500\n",
       "funded_amnt_inv                       2500\n",
       "term                             60 months\n",
       "int_rate                             15.27\n",
       "installment                          59.83\n",
       "grade                                    C\n",
       "sub_grade                               C4\n",
       "emp_title                            Ryder\n",
       "emp_length                               1\n",
       "home_ownership                        RENT\n",
       "annual_inc                           30000\n",
       "verification_status        Source Verified\n",
       "issue_d                           Dec-2011\n",
       "loan_status                              0\n",
       "purpose                                car\n",
       "zip_code                             309xx\n",
       "dti                                      1\n",
       "delinq_2yrs                              0\n",
       "inq_last_6mths                           5\n",
       "open_acc                                 3\n",
       "pub_rec                                  0\n",
       "revol_bal                             1687\n",
       "revol_util                             9.4\n",
       "total_acc                                4\n",
       "total_pymnt                        1014.53\n",
       "total_pymnt_inv                    1014.53\n",
       "total_rec_prncp                     456.46\n",
       "total_rec_int                       435.17\n",
       "total_rec_late_fee                       0\n",
       "recoveries                           122.9\n",
       "collection_recovery_fee               1.11\n",
       "last_pymnt_d                      Apr-2013\n",
       "last_pymnt_amnt                     119.66\n",
       "debt_settlement_flag                     N\n",
       "Name: 1, dtype: object"
      ]
     },
     "execution_count": 65,
     "metadata": {},
     "output_type": "execute_result"
    }
   ],
   "source": [
    "loans.iloc[0]"
   ]
  },
  {
   "cell_type": "code",
   "execution_count": null,
   "metadata": {},
   "outputs": [],
   "source": [
    "\n",
    "cat_columns = ['home_ownership','verification_status','emp_length','purpose','term']\n",
    "dummy_df = pd.get_dummies(loans[cat_columns])\n",
    "loans = pd.concat([loans,dummy_df],axis=1)  \n",
    "loans = loans.drop(cat_columns, axis=1)"
   ]
  }
 ],
 "metadata": {
  "kernelspec": {
   "display_name": "Python 2",
   "language": "python",
   "name": "python2"
  },
  "language_info": {
   "codemirror_mode": {
    "name": "ipython",
    "version": 2
   },
   "file_extension": ".py",
   "mimetype": "text/x-python",
   "name": "python",
   "nbconvert_exporter": "python",
   "pygments_lexer": "ipython2",
   "version": "2.7.15"
  }
 },
 "nbformat": 4,
 "nbformat_minor": 2
}
