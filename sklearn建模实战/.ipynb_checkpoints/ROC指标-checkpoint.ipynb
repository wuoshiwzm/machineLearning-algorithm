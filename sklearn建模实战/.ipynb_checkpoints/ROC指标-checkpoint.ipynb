{
 "cells": [
  {
   "cell_type": "code",
   "execution_count": 222,
   "metadata": {},
   "outputs": [],
   "source": [
    "import numpy as np\n",
    "import pandas as pd"
   ]
  },
  {
   "cell_type": "code",
   "execution_count": 223,
   "metadata": {},
   "outputs": [],
   "source": [
    "# 数据处理\n",
    "# np.random.seed(8)\n",
    "admissions = pd.read_csv('admissions.csv')\n",
    "admissions['actual_label'] = admissions['admit']\n",
    "admissions = admissions.drop('admit',axis=1)"
   ]
  },
  {
   "cell_type": "code",
   "execution_count": 225,
   "metadata": {},
   "outputs": [
    {
     "name": "stdout",
     "output_type": "stream",
     "text": [
      "0    324\n",
      "1    191\n",
      "Name: actual_label, dtype: int64\n",
      "0    76\n",
      "1    53\n",
      "Name: actual_label, dtype: int64\n",
      "[ 87 162 385  54 153 386   1  19 573 284   4 130 187 441 123 116 173 579\n",
      " 453 514 565  98 191 488 315 611 574 139 289 194 364 634 363 337 112 491\n",
      " 396  34 186 578 264 170 460   2 298  21  97  73 420 305 558 110 277 119\n",
      " 122 229 306 104 287 608  83 540 314 510  61 525 205 222   0 181 449 249\n",
      " 346 438 144 398 355 118 405  24 316 377  93 297 604 395 469 268 635 285\n",
      " 127 389 390 391  68 496 619 174 397 267 528 347 172 183 164 259 456 489\n",
      " 155 121 541 236 263  25 618 463 461 621 138 568 210 278 137 586 208 521\n",
      " 338 624 473 511 333 517  56 142 480 582 443 380 311 254 471 459  23 131\n",
      " 575 151 141 307 230  26 446 625 426 393 196 557 276 620 180 350 303 171\n",
      " 600  15 452 379 602 447 399 329 342 292 589 476 603 336 286 500 378  75\n",
      " 629 530  81 296 103 503 291 274 577 228 271 335 402 553 590  17 543 193\n",
      " 145 605 258 224 177 295  65 408 458  37  92 587 161  35 472 546 551 411\n",
      " 149 361 507 317  53 421 281 468 591 588 373 359 367 516 354  57 404 248\n",
      "  32 360  78 497  16 111 483 169 299 609 150 559 105 641 534 563  64 275\n",
      " 601 636 168 318 166 433 418 430 247 207 584 309 428 301 146 261 499 509\n",
      " 436 366 596 549 630 567 324  48 167 341 593 424  36 209 454 215 495 313\n",
      " 330 638 569  63 357 595  90 467 542 505 253 414 462 484 640 206 592  18\n",
      " 626  40 219 623  55 108  89 490 512  69 198 431  20  13 176 434 465 583\n",
      " 535 580 279  82  11 199 221 423 365 107 158 622 523  51 607 616 214  60\n",
      " 322 362 220 384 537 442   6 280  62 147 128 133  38 482 226 547 552  28\n",
      " 200 466 642 106 432 498  70 561 518 235 413 470 406 358 522  59 319  45\n",
      " 331   5  22 478 260 407 272 401 416 637  99 100 109 437 392  77 246 455\n",
      " 134 571 165 631 531 400 520 182 566 349 290 140 450 598 562  39 504 440\n",
      " 266 585 394 564 464 241  88 203 348 382 184  31 294 269  46 243 282  86\n",
      "  50  91   8 486 227 606 617 597 157 494 223 218 555  66 370 639 332 615\n",
      " 204 481 202 410 352 448 445 328 633 340 273 270  44 572 387 304 576 508\n",
      " 383  10 179 256  74  85 302 213 288 114 451   3  14 159 506 240  96 371\n",
      " 237 425 326 124 492 550 323 344  67 233 225  30 234 435 536 321 201 102\n",
      "  76 252  79 113  71 419 527 250 242 339  84 529 539 477 599 190 262 353\n",
      " 154 300 560 388 143 628 308 101 545 381 417 195 189 152 502 132 427 538\n",
      " 409 485 148 519 403 487 612 312 570 197 526 245 320 251 474 643 356 244\n",
      "  49 515 163 257 376 415 513 613 374 554 532  41 293 129 211 126 369 444\n",
      " 479 238  29 239 192  80  72 325 255  27 188  43 627 524 265 216 594  42\n",
      " 493  12 310   7 429 135 345 178 125 375 283 231 120 232 548   9 368 439\n",
      " 136  95 422 556 351 533 501 217  58 117 614 212  33 327 544  94 457 156\n",
      " 610 115  47 372 632 475 581  52 160 412 343 185 175 334]\n"
     ]
    }
   ],
   "source": [
    "# 数据洗牌 打乱顺序\n",
    "shuffled_index = np.random.permutation(admissions.index)\n",
    "shuffled_admissions = admissions.loc[shuffled_index]\n",
    "\n",
    "# 从中取一部分当训练(前515个) ，剩余的数据当测试（516以后）\n",
    "train = shuffled_admissions.iloc[0:515]\n",
    "test = shuffled_admissions.iloc[515:len(shuffled_admissions)]\n",
    "\n",
    "print train['actual_label'].value_counts()\n",
    "print test['actual_label'].value_counts()\n",
    "print shuffled_index\n",
    "# print train.shape\n",
    "# print test.shape\n",
    "# print shuffled_admissions.shape\n",
    "# print train.head(100)"
   ]
  },
  {
   "cell_type": "code",
   "execution_count": 226,
   "metadata": {},
   "outputs": [],
   "source": [
    "# 建立模型 应用训练数据训练模型，再用测试数据测试accuracy\n",
    "from sklearn.linear_model import LogisticRegression\n",
    "from sklearn.linear_model import LinearRegression\n"
   ]
  },
  {
   "cell_type": "code",
   "execution_count": 227,
   "metadata": {},
   "outputs": [
    {
     "data": {
      "text/plain": [
       "LogisticRegression(C=1.0, class_weight=None, dual=False, fit_intercept=True,\n",
       "          intercept_scaling=1, max_iter=100, multi_class='warn',\n",
       "          n_jobs=None, penalty='l2', random_state=None, solver='warn',\n",
       "          tol=0.0001, verbose=0, warm_start=False)"
      ]
     },
     "execution_count": 227,
     "metadata": {},
     "output_type": "execute_result"
    }
   ],
   "source": [
    "model = LogisticRegression()\n",
    "model.fit(train[['gpa']],train['actual_label'])\n"
   ]
  },
  {
   "cell_type": "code",
   "execution_count": 228,
   "metadata": {},
   "outputs": [
    {
     "name": "stdout",
     "output_type": "stream",
     "text": [
      "0.604651162791\n",
      "          gpa         gre  actual_label\n",
      "87   2.929348  749.633740             1\n",
      "162  3.049572  738.680683             1\n",
      "385  4.000000  677.899597             1\n",
      "54   3.583556  657.689211             1\n",
      "153  2.909667  604.484680             0\n"
     ]
    },
    {
     "name": "stderr",
     "output_type": "stream",
     "text": [
      "C:\\Software\\Anaconda2\\lib\\site-packages\\ipykernel_launcher.py:3: SettingWithCopyWarning: \n",
      "A value is trying to be set on a copy of a slice from a DataFrame.\n",
      "Try using .loc[row_indexer,col_indexer] = value instead\n",
      "\n",
      "See the caveats in the documentation: http://pandas.pydata.org/pandas-docs/stable/indexing.html#indexing-view-versus-copy\n",
      "  This is separate from the ipykernel package so we can avoid doing imports until\n"
     ]
    }
   ],
   "source": [
    "# 准确性验证\n",
    "labels = model.predict(test[['gpa']])\n",
    "test['predict_label'] = labels\n",
    "\n",
    "matches = test['predict_label'] == test['actual_label']\n",
    "correct_pred = test[matches]\n",
    "accuracy = len(correct_pred) / float(len(test))\n",
    "print accuracy\n",
    "\n",
    "print train.head()\n",
    "\n",
    "\n"
   ]
  },
  {
   "cell_type": "code",
   "execution_count": 229,
   "metadata": {},
   "outputs": [
    {
     "name": "stdout",
     "output_type": "stream",
     "text": [
      "0.658252427184\n"
     ]
    },
    {
     "name": "stderr",
     "output_type": "stream",
     "text": [
      "C:\\Software\\Anaconda2\\lib\\site-packages\\ipykernel_launcher.py:2: SettingWithCopyWarning: \n",
      "A value is trying to be set on a copy of a slice from a DataFrame.\n",
      "Try using .loc[row_indexer,col_indexer] = value instead\n",
      "\n",
      "See the caveats in the documentation: http://pandas.pydata.org/pandas-docs/stable/indexing.html#indexing-view-versus-copy\n",
      "  \n"
     ]
    }
   ],
   "source": [
    "labels1 = model.predict(train[['gpa']])\n",
    "train['predict_label'] = labels1\n",
    "matches1 = train['predict_label'] == train['actual_label']\n",
    "correct_pred1 = train[matches1]\n",
    "accuracy1 = len(correct_pred1) / float(len(train))\n",
    "print accuracy1"
   ]
  },
  {
   "cell_type": "markdown",
   "metadata": {},
   "source": [
    "ROC曲线:模型预测的综合效果"
   ]
  },
  {
   "cell_type": "code",
   "execution_count": 230,
   "metadata": {},
   "outputs": [],
   "source": [
    "from sklearn import metrics\n",
    "import matplotlib.pyplot as plt"
   ]
  },
  {
   "cell_type": "code",
   "execution_count": 234,
   "metadata": {},
   "outputs": [
    {
     "name": "stdout",
     "output_type": "stream",
     "text": [
      "[1.53352562 0.53352562 0.51149201 0.5075949  0.47058048 0.46926432\n",
      " 0.45874953 0.45848774 0.45349191 0.45270748 0.45115946 0.44735428\n",
      " 0.44547047 0.4370704  0.43582099 0.43155283 0.42806554 0.42458633\n",
      " 0.4196501  0.41844331 0.4168551  0.40783608 0.40628458 0.40585441\n",
      " 0.40309364 0.39427059 0.39299491 0.39271477 0.3923008  0.38240801\n",
      " 0.38048825 0.3671616  0.3664621  0.36521216 0.36310016 0.3606078\n",
      " 0.35152374 0.34868997 0.34848862 0.34279378 0.34242128 0.34201144\n",
      " 0.34150205 0.34054247 0.33740495 0.33246252 0.33167249 0.3306534\n",
      " 0.33053603 0.32685907 0.32682716 0.32125949 0.31993644 0.31131483\n",
      " 0.30935155 0.3076386  0.30659593 0.29530877 0.28834848 0.22465419]\n"
     ]
    },
    {
     "data": {
      "image/png": "[encoded data removed]",
      "text/plain": [
       "<Figure size 432x288 with 1 Axes>"
      ]
     },
     "metadata": {
      "needs_background": "light"
     },
     "output_type": "display_data"
    }
   ],
   "source": [
    "probabilities = model.predict_proba(test[['gpa']])\n",
    "\n",
    "# 参数1：每数据的实际类别（如正例或负便）  参数2：每条数据模型预测值的【概率值】\n",
    "# 返回值  fpr: False Positive Rate\n",
    "#        tpr: True Positive Rate\n",
    "#  threshold: 阈值  ，每个fpr,tpr 对应不同的阈值\n",
    "# 我们希望这个模型预测正例的准确率高，预测负例的准确率也高，曲线的积分（面积）就能表示模型的好坏\n",
    "\n",
    "fpr,tpr,thresholds = metrics.roc_curve(test['actual_label'],probabilities[:,1])\n",
    "print thresholds\n",
    "plt.plot(fpr,tpr)\n",
    "plt.show()"
   ]
  },
  {
   "cell_type": "markdown",
   "metadata": {},
   "source": [
    "roc_score"
   ]
  },
  {
   "cell_type": "code",
   "execution_count": 235,
   "metadata": {},
   "outputs": [
    {
     "name": "stdout",
     "output_type": "stream",
     "text": [
      "0.6757696127110229\n"
     ]
    }
   ],
   "source": [
    "from sklearn.metrics import roc_auc_score\n",
    "\n",
    "auc_score = roc_auc_score(test['actual_label'],probabilities[:,1])\n",
    "print auc_score"
   ]
  },
  {
   "cell_type": "code",
   "execution_count": null,
   "metadata": {},
   "outputs": [],
   "source": []
  }
 ],
 "metadata": {
  "kernelspec": {
   "display_name": "Python 2",
   "language": "python",
   "name": "python2"
  },
  "language_info": {
   "codemirror_mode": {
    "name": "ipython",
    "version": 2
   },
   "file_extension": ".py",
   "mimetype": "text/x-python",
   "name": "python",
   "nbconvert_exporter": "python",
   "pygments_lexer": "ipython2",
   "version": "2.7.15"
  }
 },
 "nbformat": 4,
 "nbformat_minor": 2
}
