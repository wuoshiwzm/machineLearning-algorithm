{
 "cells": [
  {
   "cell_type": "code",
   "execution_count": null,
   "metadata": {},
   "outputs": [],
   "source": []
  },
  {
   "cell_type": "code",
   "execution_count": 10,
   "metadata": {},
   "outputs": [],
   "source": [
    "import pandas as pd\n",
    "import matplotlib.pyplot as plt\n",
    "from sklearn.linear_model import LogisticRegression"
   ]
  },
  {
   "cell_type": "code",
   "execution_count": 11,
   "metadata": {},
   "outputs": [
    {
     "data": {
      "text/plain": [
       "LogisticRegression(C=1.0, class_weight=None, dual=False, fit_intercept=True,\n",
       "          intercept_scaling=1, max_iter=100, multi_class='warn',\n",
       "          n_jobs=None, penalty='l2', random_state=None, solver='warn',\n",
       "          tol=0.0001, verbose=0, warm_start=False)"
      ]
     },
     "execution_count": 11,
     "metadata": {},
     "output_type": "execute_result"
    }
   ],
   "source": [
    "admissions = pd.read_csv('admissions.csv')\n",
    "model = LogisticRegression()\n",
    "model.fit(admissions[['gpa']],admissions['admit'])\n",
    "\n",
    "model1 = LogisticRegression()\n",
    "model1.fit(admissions[['gpa']],admissions['admit'])"
   ]
  },
  {
   "cell_type": "code",
   "execution_count": 15,
   "metadata": {},
   "outputs": [
    {
     "name": "stdout",
     "output_type": "stream",
     "text": [
      "0    598\n",
      "1     46\n",
      "Name: predicted_label, dtype: int64\n",
      "   admit       gpa         gre  predicted_label  actual_label\n",
      "0      0  3.177277  594.102992                0             0\n",
      "1      0  3.412655  631.528607                0             0\n",
      "2      0  2.728097  553.714399                0             0\n",
      "3      0  3.093559  551.089985                0             0\n",
      "4      0  3.141923  537.184894                0             0\n",
      "0.645962732919\n"
     ]
    }
   ],
   "source": [
    "labels = model.predict(admissions[['gpa']])\n",
    "admissions['predicted_label'] = labels\n",
    "admissions['actual_label'] = admissions['admit']\n",
    "print admissions['predicted_label'].value_counts()\n",
    "print admissions.head()\n",
    "\n",
    "matches=admissions['predicted_label']==admissions['actual_label']\n",
    "correct_pred = admissions[matches]\n",
    "accuracy=len(correct_pred)/float(len(admissions))\n",
    "print accuracy"
   ]
  },
  {
   "cell_type": "markdown",
   "metadata": {},
   "source": [
    "精度一般是不可靠的\n",
    "\n",
    "True Positive :TP  预测对了，预测结果是正例  把正的预测成正的\n",
    "False Negtive :FN  预测错了，预测结果是负例  把正的预测成负的  ‘去真’\n",
    "False Positive:FP  预测错了，预测结果是正便  把负的预测成正的  ‘去伪’\n",
    "True Negtive  :TN  预测对了，预测结果是负例  把负的预测成负的\n",
    "\n",
    "True Positive Rate = $\\frac{True Positives}{True Positive + False Negative}$ :模型检测正例的效果\n",
    "\n",
    "True Neggative Rate = $\\frac{True Negatives}{True Negatives + False Positives}$ :模型检测负例的效果\n"
   ]
  },
  {
   "cell_type": "markdown",
   "metadata": {},
   "source": [
    "ROC指标 与 交叉验证"
   ]
  }
 ],
 "metadata": {
  "kernelspec": {
   "display_name": "Python 2",
   "language": "python",
   "name": "python2"
  },
  "language_info": {
   "codemirror_mode": {
    "name": "ipython",
    "version": 2
   },
   "file_extension": ".py",
   "mimetype": "text/x-python",
   "name": "python",
   "nbconvert_exporter": "python",
   "pygments_lexer": "ipython2",
   "version": "2.7.15"
  }
 },
 "nbformat": 4,
 "nbformat_minor": 2
}
