{
 "cells": [
  {
   "cell_type": "code",
   "execution_count": 236,
   "metadata": {},
   "outputs": [],
   "source": [
    "import numpy as np\n",
    "import pandas as pd"
   ]
  },
  {
   "cell_type": "code",
   "execution_count": 237,
   "metadata": {},
   "outputs": [],
   "source": [
    "# 数据处理\n",
    "# np.random.seed(8)\n",
    "admissions = pd.read_csv('admissions.csv')\n",
    "admissions['actual_label'] = admissions['admit']\n",
    "admissions = admissions.drop('admit',axis=1)"
   ]
  },
  {
   "cell_type": "code",
   "execution_count": 245,
   "metadata": {},
   "outputs": [
    {
     "name": "stdout",
     "output_type": "stream",
     "text": [
      "0    321\n",
      "1    194\n",
      "Name: actual_label, dtype: int64\n",
      "0    79\n",
      "1    50\n",
      "Name: actual_label, dtype: int64\n"
     ]
    }
   ],
   "source": [
    "# 数据洗牌 打乱顺序\n",
    "shuffled_index = np.random.permutation(admissions.index)\n",
    "shuffled_admissions = admissions.loc[shuffled_index]\n",
    "\n",
    "# 从中取一部分当训练(前515个) ，剩余的数据当测试（516以后）\n",
    "train = shuffled_admissions.iloc[0:515]\n",
    "test = shuffled_admissions.iloc[515:len(shuffled_admissions)]\n",
    "\n",
    "print train['actual_label'].value_counts()\n",
    "print test['actual_label'].value_counts()\n",
    "# print shuffled_index\n",
    "# print train.shape\n",
    "# print test.shape\n",
    "# print shuffled_admissions.shape\n",
    "# print train.head(100)"
   ]
  },
  {
   "cell_type": "code",
   "execution_count": 226,
   "metadata": {},
   "outputs": [],
   "source": [
    "# 建立模型 应用训练数据训练模型，再用测试数据测试accuracy\n",
    "from sklearn.linear_model import LogisticRegression\n",
    "from sklearn.linear_model import LinearRegression\n"
   ]
  },
  {
   "cell_type": "code",
   "execution_count": 227,
   "metadata": {},
   "outputs": [
    {
     "data": {
      "text/plain": [
       "LogisticRegression(C=1.0, class_weight=None, dual=False, fit_intercept=True,\n",
       "          intercept_scaling=1, max_iter=100, multi_class='warn',\n",
       "          n_jobs=None, penalty='l2', random_state=None, solver='warn',\n",
       "          tol=0.0001, verbose=0, warm_start=False)"
      ]
     },
     "execution_count": 227,
     "metadata": {},
     "output_type": "execute_result"
    }
   ],
   "source": [
    "model = LogisticRegression()\n",
    "model.fit(train[['gpa']],train['actual_label'])\n"
   ]
  },
  {
   "cell_type": "code",
   "execution_count": 228,
   "metadata": {},
   "outputs": [
    {
     "name": "stdout",
     "output_type": "stream",
     "text": [
      "0.604651162791\n",
      "          gpa         gre  actual_label\n",
      "87   2.929348  749.633740             1\n",
      "162  3.049572  738.680683             1\n",
      "385  4.000000  677.899597             1\n",
      "54   3.583556  657.689211             1\n",
      "153  2.909667  604.484680             0\n"
     ]
    },
    {
     "name": "stderr",
     "output_type": "stream",
     "text": [
      "C:\\Software\\Anaconda2\\lib\\site-packages\\ipykernel_launcher.py:3: SettingWithCopyWarning: \n",
      "A value is trying to be set on a copy of a slice from a DataFrame.\n",
      "Try using .loc[row_indexer,col_indexer] = value instead\n",
      "\n",
      "See the caveats in the documentation: http://pandas.pydata.org/pandas-docs/stable/indexing.html#indexing-view-versus-copy\n",
      "  This is separate from the ipykernel package so we can avoid doing imports until\n"
     ]
    }
   ],
   "source": [
    "# 准确性验证\n",
    "labels = model.predict(test[['gpa']])\n",
    "test['predict_label'] = labels\n",
    "\n",
    "matches = test['predict_label'] == test['actual_label']\n",
    "correct_pred = test[matches]\n",
    "accuracy = len(correct_pred) / float(len(test))\n",
    "print accuracy\n",
    "\n",
    "print train.head()\n",
    "\n",
    "\n"
   ]
  },
  {
   "cell_type": "code",
   "execution_count": 229,
   "metadata": {},
   "outputs": [
    {
     "name": "stdout",
     "output_type": "stream",
     "text": [
      "0.658252427184\n"
     ]
    },
    {
     "name": "stderr",
     "output_type": "stream",
     "text": [
      "C:\\Software\\Anaconda2\\lib\\site-packages\\ipykernel_launcher.py:2: SettingWithCopyWarning: \n",
      "A value is trying to be set on a copy of a slice from a DataFrame.\n",
      "Try using .loc[row_indexer,col_indexer] = value instead\n",
      "\n",
      "See the caveats in the documentation: http://pandas.pydata.org/pandas-docs/stable/indexing.html#indexing-view-versus-copy\n",
      "  \n"
     ]
    }
   ],
   "source": [
    "labels1 = model.predict(train[['gpa']])\n",
    "train['predict_label'] = labels1\n",
    "matches1 = train['predict_label'] == train['actual_label']\n",
    "correct_pred1 = train[matches1]\n",
    "accuracy1 = len(correct_pred1) / float(len(train))\n",
    "print accuracy1"
   ]
  },
  {
   "cell_type": "markdown",
   "metadata": {},
   "source": [
    "ROC曲线:模型预测的综合效果"
   ]
  },
  {
   "cell_type": "code",
   "execution_count": 230,
   "metadata": {},
   "outputs": [],
   "source": [
    "from sklearn import metrics\n",
    "import matplotlib.pyplot as plt"
   ]
  },
  {
   "cell_type": "code",
   "execution_count": 234,
   "metadata": {},
   "outputs": [
    {
     "name": "stdout",
     "output_type": "stream",
     "text": [
      "[1.53352562 0.53352562 0.51149201 0.5075949  0.47058048 0.46926432\n",
      " 0.45874953 0.45848774 0.45349191 0.45270748 0.45115946 0.44735428\n",
      " 0.44547047 0.4370704  0.43582099 0.43155283 0.42806554 0.42458633\n",
      " 0.4196501  0.41844331 0.4168551  0.40783608 0.40628458 0.40585441\n",
      " 0.40309364 0.39427059 0.39299491 0.39271477 0.3923008  0.38240801\n",
      " 0.38048825 0.3671616  0.3664621  0.36521216 0.36310016 0.3606078\n",
      " 0.35152374 0.34868997 0.34848862 0.34279378 0.34242128 0.34201144\n",
      " 0.34150205 0.34054247 0.33740495 0.33246252 0.33167249 0.3306534\n",
      " 0.33053603 0.32685907 0.32682716 0.32125949 0.31993644 0.31131483\n",
      " 0.30935155 0.3076386  0.30659593 0.29530877 0.28834848 0.22465419]\n"
     ]
    },
    {
     "data": {
      "image/png": "[encoded data removed]",
      "text/plain": [
       "<Figure size 432x288 with 1 Axes>"
      ]
     },
     "metadata": {
      "needs_background": "light"
     },
     "output_type": "display_data"
    }
   ],
   "source": [
    "probabilities = model.predict_proba(test[['gpa']])\n",
    "\n",
    "# 参数1：每数据的实际类别（如正例或负便）  参数2：每条数据模型预测值的【概率值】\n",
    "# 返回值  fpr: False Positive Rate\n",
    "#        tpr: True Positive Rate\n",
    "#  threshold: 阈值  ，每个fpr,tpr 对应不同的阈值\n",
    "# 我们希望这个模型预测正例的准确率高，预测负例的准确率也高，曲线的积分（面积）就能表示模型的好坏\n",
    "\n",
    "fpr,tpr,thresholds = metrics.roc_curve(test['actual_label'],probabilities[:,1])\n",
    "print thresholds\n",
    "plt.plot(fpr,tpr)\n",
    "plt.show()"
   ]
  },
  {
   "cell_type": "markdown",
   "metadata": {},
   "source": [
    "roc_score"
   ]
  },
  {
   "cell_type": "code",
   "execution_count": 235,
   "metadata": {},
   "outputs": [
    {
     "name": "stdout",
     "output_type": "stream",
     "text": [
      "0.6757696127110229\n"
     ]
    }
   ],
   "source": [
    "from sklearn.metrics import roc_auc_score\n",
    "\n",
    "auc_score = roc_auc_score(test['actual_label'],probabilities[:,1])\n",
    "print auc_score"
   ]
  },
  {
   "cell_type": "code",
   "execution_count": null,
   "metadata": {},
   "outputs": [],
   "source": []
  }
 ],
 "metadata": {
  "kernelspec": {
   "display_name": "Python 2",
   "language": "python",
   "name": "python2"
  },
  "language_info": {
   "codemirror_mode": {
    "name": "ipython",
    "version": 2
   },
   "file_extension": ".py",
   "mimetype": "text/x-python",
   "name": "python",
   "nbconvert_exporter": "python",
   "pygments_lexer": "ipython2",
   "version": "2.7.15"
  }
 },
 "nbformat": 4,
 "nbformat_minor": 2
}
