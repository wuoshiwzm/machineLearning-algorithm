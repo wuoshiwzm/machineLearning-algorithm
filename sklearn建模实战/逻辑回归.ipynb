{
 "cells": [
  {
   "cell_type": "markdown",
   "metadata": {},
   "source": [
    "申请学校"
   ]
  },
  {
   "cell_type": "code",
   "execution_count": 7,
   "metadata": {},
   "outputs": [],
   "source": [
    "import pandas as pd\n",
    "import matplotlib.pyplot as plt\n",
    "admissions = pd.read_csv('admissions.csv')"
   ]
  },
  {
   "cell_type": "code",
   "execution_count": 18,
   "metadata": {},
   "outputs": [
    {
     "name": "stdout",
     "output_type": "stream",
     "text": [
      "   admit       gpa         gre\n",
      "0      0  3.177277  594.102992\n",
      "1      0  3.412655  631.528607\n",
      "2      0  2.728097  553.714399\n",
      "3      0  3.093559  551.089985\n",
      "4      0  3.141923  537.184894\n",
      "5      0  3.599108  442.763567\n",
      "6      0  3.238972  667.472189\n",
      "7      0  3.420177  561.713905\n",
      "8      0  3.562482  590.340371\n",
      "9      0  3.910495  463.470183\n"
     ]
    }
   ],
   "source": [
    "print admissions.head(10)\n",
    "\n",
    "# plt.scatter(admissions['gre'],admissions['admit'])\n",
    "# plt.show()"
   ]
  },
  {
   "cell_type": "code",
   "execution_count": 19,
   "metadata": {},
   "outputs": [],
   "source": [
    "import numpy as np"
   ]
  },
  {
   "cell_type": "markdown",
   "metadata": {},
   "source": [
    "    sigmod函数"
   ]
  },
  {
   "cell_type": "code",
   "execution_count": 21,
   "metadata": {},
   "outputs": [],
   "source": [
    "def logit(x):\n",
    "    return np.exp(x)/(1+np.exp(x))\n",
    "# 在-6到6 的区间上取了50个点\n",
    "x=np.linspace(-6,6,50,dtype=float)\n",
    "y=logit(x)\n",
    "# plt.scatter(x,y)"
   ]
  },
  {
   "cell_type": "code",
   "execution_count": 33,
   "metadata": {},
   "outputs": [
    {
     "data": {
      "text/plain": [
       "LogisticRegression(C=1.0, class_weight=None, dual=False, fit_intercept=True,\n",
       "          intercept_scaling=1, max_iter=100, multi_class='warn',\n",
       "          n_jobs=None, penalty='l2', random_state=None, solver='warn',\n",
       "          tol=0.0001, verbose=0, warm_start=False)"
      ]
     },
     "execution_count": 33,
     "metadata": {},
     "output_type": "execute_result"
    }
   ],
   "source": [
    "# 线性回归 最终得到样本属于哪一个类别\n",
    "from sklearn.linear_model import LinearRegression\n",
    "linear_model = LinearRegression()\n",
    "linear_model.fit(admissions[['gpa']],admissions['admit'])\n",
    "\n",
    "# 逻辑回归 最终得到样本属于一个类别的概率值\n",
    "from sklearn.linear_model import LogisticRegression\n",
    "logistic_model = LogisticRegression()\n",
    "logistic_model.fit(admissions[['gpa']],admissions['admit'])\n"
   ]
  },
  {
   "cell_type": "code",
   "execution_count": 42,
   "metadata": {},
   "outputs": [
    {
     "data": {
      "text/plain": [
       "<matplotlib.collections.PathCollection at 0xdea9160>"
      ]
     },
     "execution_count": 42,
     "metadata": {},
     "output_type": "execute_result"
    },
    {
     "data": {
      "image/png": "[encoded data removed]",
      "text/plain": [
       "<Figure size 432x288 with 1 Axes>"
      ]
     },
     "metadata": {
      "needs_background": "light"
     },
     "output_type": "display_data"
    }
   ],
   "source": [
    "# 预测可能性\n",
    "# print admissions.head()\n",
    "pred = logistic_model.predict_proba(admissions[['gpa']])\n",
    "plt.scatter(admissions['gpa'],pred[:,1])\n",
    "\n",
    "# 预测结果（默认大于0.5为1，小于为0）\n",
    "pred_calss = logistic_model.predict(admissions[['gpa']])\n",
    "plt.scatter(admissions['gpa'],pred_calss)"
   ]
  },
  {
   "cell_type": "code",
   "execution_count": null,
   "metadata": {},
   "outputs": [],
   "source": []
  }
 ],
 "metadata": {
  "kernelspec": {
   "display_name": "Python 2",
   "language": "python",
   "name": "python2"
  },
  "language_info": {
   "codemirror_mode": {
    "name": "ipython",
    "version": 2
   },
   "file_extension": ".py",
   "mimetype": "text/x-python",
   "name": "python",
   "nbconvert_exporter": "python",
   "pygments_lexer": "ipython2",
   "version": "2.7.15"
  }
 },
 "nbformat": 4,
 "nbformat_minor": 2
}
